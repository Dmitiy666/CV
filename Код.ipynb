{
  "nbformat": 4,
  "nbformat_minor": 0,
  "metadata": {
    "colab": {
      "provenance": [],
      "gpuType": "T4"
    },
    "kernelspec": {
      "name": "python3",
      "display_name": "Python 3"
    },
    "language_info": {
      "name": "python"
    },
    "accelerator": "GPU"
  },
  "cells": [
    {
      "cell_type": "code",
      "execution_count": null,
      "metadata": {
        "id": "wvMzbdAqDry4"
      },
      "outputs": [],
      "source": [
        "from tensorflow.keras.models import Sequential\n",
        "from tensorflow.keras.layers import Dense\n",
        "from tensorflow.keras import utils\n",
        "from tensorflow import keras\n",
        "\n",
        "import numpy as np\n",
        "\n",
        "# Генератор аугментированных изображений\n",
        "from keras.preprocessing.image import ImageDataGenerator\n",
        "\n",
        "# Основные слои\n",
        "from keras.layers import Dense, Conv2D, MaxPooling2D, Flatten, Dropout, BatchNormalization, ZeroPadding2D\n",
        "\n",
        "# Оптимизатор\n",
        "from keras.optimizers import Adam\n",
        "\n",
        "# Матрица ошибок классификатора\n",
        "from sklearn.metrics import confusion_matrix, ConfusionMatrixDisplay\n",
        "\n",
        "# Подключение модуля для загрузки данных из облака\n",
        "import gdown\n",
        "\n",
        "# Инструменты для работы с файлами\n",
        "import os\n",
        "\n",
        "# Отрисовка графиков\n",
        "import matplotlib.pyplot as plt\n",
        "\n",
        "\n",
        "# Рисование графиков в ячейках Colab\n",
        "%matplotlib inline\n",
        "\n",
        "import zipfile\n"
      ]
    },
    {
      "cell_type": "code",
      "source": [
        "zip_path = '/content/drive/MyDrive/archive.zip'\n",
        "\n",
        "with zipfile.ZipFile(zip_path, 'r') as zip_ref:\n",
        "    zip_ref.extractall('/content/')"
      ],
      "metadata": {
        "id": "B-myEAc1D63v"
      },
      "execution_count": null,
      "outputs": []
    },
    {
      "cell_type": "code",
      "source": [
        "# Запишем путь к данным и создадим генераторы для обучающей и тестовой выборок\n",
        "\n",
        "data_dir = '/content/train'\n",
        "train_datagen = ImageDataGenerator(\n",
        "    rescale=1./255,\n",
        "    validation_split=0.2\n",
        ")\n",
        "\n",
        "test_datagen = ImageDataGenerator(rescale=1./255)"
      ],
      "metadata": {
        "id": "iwSCcw3AEWBK"
      },
      "execution_count": null,
      "outputs": []
    },
    {
      "cell_type": "code",
      "source": [
        "train_generator = train_datagen.flow_from_directory(\n",
        "    data_dir,\n",
        "    target_size=(48, 48),\n",
        "    batch_size=32,color_mode='grayscale',\n",
        "    class_mode='categorical',\n",
        "    subset='training'\n",
        ")\n",
        "\n",
        "validation_generator = train_datagen.flow_from_directory(\n",
        "    data_dir,\n",
        "    target_size=(48, 48),\n",
        "    batch_size=32, color_mode='grayscale',\n",
        "    class_mode='categorical',\n",
        "    subset='validation'\n",
        ")\n",
        "\n",
        "test_generator = test_datagen.flow_from_directory(\n",
        "    '/content/test',\n",
        "    target_size=(48, 48),\n",
        "    batch_size=32, color_mode='grayscale',\n",
        "    class_mode='categorical',\n",
        "    shuffle=False\n",
        ")"
      ],
      "metadata": {
        "colab": {
          "base_uri": "https://localhost:8080/"
        },
        "id": "gTwhG8mpFsEq",
        "outputId": "5f630286-c5f6-4f8e-838c-1ed9c00e2198"
      },
      "execution_count": null,
      "outputs": [
        {
          "output_type": "stream",
          "name": "stdout",
          "text": [
            "Found 22968 images belonging to 7 classes.\n",
            "Found 5741 images belonging to 7 classes.\n",
            "Found 7178 images belonging to 7 classes.\n"
          ]
        }
      ]
    },
    {
      "cell_type": "code",
      "source": [
        "class_names = list(train_generator.class_indices.keys())\n",
        "print(\"Имена классов:\", class_names)"
      ],
      "metadata": {
        "colab": {
          "base_uri": "https://localhost:8080/"
        },
        "id": "_eWGoZ_IF0HI",
        "outputId": "7cc6cc98-f356-4a4a-c70a-0b3d0a8a9c3d"
      },
      "execution_count": null,
      "outputs": [
        {
          "output_type": "stream",
          "name": "stdout",
          "text": [
            "Имена классов: ['angry', 'disgust', 'fear', 'happy', 'neutral', 'sad', 'surprise']\n"
          ]
        }
      ]
    },
    {
      "cell_type": "code",
      "source": [
        "model = Sequential()\n",
        "model.add(ZeroPadding2D((1,1), input_shape=(48, 48, 1)))\n",
        "model.add(Conv2D(64, (3,3), activation='relu'))\n",
        "model.add(ZeroPadding2D((1,1)))\n",
        "model.add(Conv2D(64, (3,3), activation='relu'))\n",
        "model.add(MaxPooling2D((2,2), strides=(2,2)))\n",
        "\n",
        "model.add(ZeroPadding2D((1,1)))\n",
        "model.add(Conv2D(128, (3,3), activation='relu'))\n",
        "model.add(ZeroPadding2D((1,1)))\n",
        "model.add(Conv2D(128, (3,3), activation='relu'))\n",
        "model.add(MaxPooling2D((2,2), strides=(2,2)))\n",
        "\n",
        "model.add(ZeroPadding2D((1,1)))\n",
        "model.add(Conv2D(256, (3,3), activation='relu'))\n",
        "model.add(ZeroPadding2D((1,1)))\n",
        "model.add(Conv2D(256, (3,3), activation='relu'))\n",
        "model.add(ZeroPadding2D((1,1)))\n",
        "model.add(Conv2D(256, (3,3), activation='relu'))\n",
        "model.add(MaxPooling2D((2,2), strides=(2,2)))\n",
        "\n",
        "model.add(ZeroPadding2D((1,1)))\n",
        "model.add(Conv2D(512, (3,3), activation='relu'))\n",
        "model.add(ZeroPadding2D((1,1)))\n",
        "model.add(Conv2D(512, (3,3), activation='relu'))\n",
        "\n",
        "model.add(Flatten())\n",
        "model.add(Dense(4096, activation='relu'))\n",
        "model.add(Dropout(0.5))\n",
        "model.add(Dense(4096, activation='relu'))\n",
        "model.add(Dropout(0.5))\n",
        "model.add(Dense(7, activation='softmax'))\n",
        "\n",
        "model.compile(optimizer='sgd', loss='categorical_crossentropy', metrics=['accuracy'])"
      ],
      "metadata": {
        "id": "gCpkNhCrF2lp"
      },
      "execution_count": null,
      "outputs": []
    },
    {
      "cell_type": "code",
      "source": [
        "model.fit(train_generator, batch_size=32, epochs=30, verbose=1, validation_data=validation_generator)"
      ],
      "metadata": {
        "colab": {
          "base_uri": "https://localhost:8080/"
        },
        "id": "gZExxBF_HwFH",
        "outputId": "f56eec5d-dce4-4b5f-83cc-1be5ca6cd733"
      },
      "execution_count": null,
      "outputs": [
        {
          "output_type": "stream",
          "name": "stdout",
          "text": [
            "Epoch 1/30\n",
            "718/718 [==============================] - 45s 52ms/step - loss: 1.8344 - accuracy: 0.2495 - val_loss: 1.8141 - val_accuracy: 0.2513\n",
            "Epoch 2/30\n",
            "718/718 [==============================] - 34s 48ms/step - loss: 1.8143 - accuracy: 0.2512 - val_loss: 1.8109 - val_accuracy: 0.2513\n",
            "Epoch 3/30\n",
            "718/718 [==============================] - 38s 53ms/step - loss: 1.8120 - accuracy: 0.2513 - val_loss: 1.8088 - val_accuracy: 0.2513\n",
            "Epoch 4/30\n",
            "718/718 [==============================] - 34s 48ms/step - loss: 1.8096 - accuracy: 0.2513 - val_loss: 1.8045 - val_accuracy: 0.2513\n",
            "Epoch 5/30\n",
            "718/718 [==============================] - 35s 48ms/step - loss: 1.7987 - accuracy: 0.2513 - val_loss: 1.7940 - val_accuracy: 0.2520\n",
            "Epoch 6/30\n",
            "718/718 [==============================] - 35s 48ms/step - loss: 1.7853 - accuracy: 0.2505 - val_loss: 1.7763 - val_accuracy: 0.2547\n",
            "Epoch 7/30\n",
            "718/718 [==============================] - 35s 49ms/step - loss: 1.7740 - accuracy: 0.2565 - val_loss: 1.7621 - val_accuracy: 0.2775\n",
            "Epoch 8/30\n",
            "718/718 [==============================] - 35s 48ms/step - loss: 1.7481 - accuracy: 0.2839 - val_loss: 1.7250 - val_accuracy: 0.3026\n",
            "Epoch 9/30\n",
            "718/718 [==============================] - 35s 48ms/step - loss: 1.7075 - accuracy: 0.3181 - val_loss: 1.6930 - val_accuracy: 0.3344\n",
            "Epoch 10/30\n",
            "718/718 [==============================] - 35s 49ms/step - loss: 1.6631 - accuracy: 0.3447 - val_loss: 1.6314 - val_accuracy: 0.3567\n",
            "Epoch 11/30\n",
            "718/718 [==============================] - 35s 48ms/step - loss: 1.6241 - accuracy: 0.3658 - val_loss: 1.5924 - val_accuracy: 0.3792\n",
            "Epoch 12/30\n",
            "718/718 [==============================] - 36s 50ms/step - loss: 1.5775 - accuracy: 0.3877 - val_loss: 1.5700 - val_accuracy: 0.3998\n",
            "Epoch 13/30\n",
            "718/718 [==============================] - 35s 49ms/step - loss: 1.5318 - accuracy: 0.4107 - val_loss: 1.5116 - val_accuracy: 0.4184\n",
            "Epoch 14/30\n",
            "718/718 [==============================] - 35s 48ms/step - loss: 1.4919 - accuracy: 0.4258 - val_loss: 1.4822 - val_accuracy: 0.4248\n",
            "Epoch 15/30\n",
            "718/718 [==============================] - 38s 53ms/step - loss: 1.4569 - accuracy: 0.4386 - val_loss: 1.4713 - val_accuracy: 0.4302\n",
            "Epoch 16/30\n",
            "718/718 [==============================] - 35s 48ms/step - loss: 1.4185 - accuracy: 0.4521 - val_loss: 1.4251 - val_accuracy: 0.4499\n",
            "Epoch 17/30\n",
            "718/718 [==============================] - 37s 52ms/step - loss: 1.3864 - accuracy: 0.4680 - val_loss: 1.4142 - val_accuracy: 0.4517\n",
            "Epoch 18/30\n",
            "718/718 [==============================] - 35s 49ms/step - loss: 1.3497 - accuracy: 0.4826 - val_loss: 1.3817 - val_accuracy: 0.4698\n",
            "Epoch 19/30\n",
            "718/718 [==============================] - 37s 52ms/step - loss: 1.3150 - accuracy: 0.4982 - val_loss: 1.3642 - val_accuracy: 0.4717\n",
            "Epoch 20/30\n",
            "718/718 [==============================] - 34s 48ms/step - loss: 1.2742 - accuracy: 0.5160 - val_loss: 1.3869 - val_accuracy: 0.4698\n",
            "Epoch 21/30\n",
            "718/718 [==============================] - 35s 48ms/step - loss: 1.2290 - accuracy: 0.5344 - val_loss: 1.3432 - val_accuracy: 0.4809\n",
            "Epoch 22/30\n",
            "718/718 [==============================] - 34s 48ms/step - loss: 1.1836 - accuracy: 0.5542 - val_loss: 1.3563 - val_accuracy: 0.4936\n",
            "Epoch 23/30\n",
            "718/718 [==============================] - 34s 48ms/step - loss: 1.1300 - accuracy: 0.5778 - val_loss: 1.3136 - val_accuracy: 0.5083\n",
            "Epoch 24/30\n",
            "718/718 [==============================] - 35s 49ms/step - loss: 1.0702 - accuracy: 0.5975 - val_loss: 1.3704 - val_accuracy: 0.4971\n",
            "Epoch 25/30\n",
            "718/718 [==============================] - 35s 48ms/step - loss: 1.0075 - accuracy: 0.6250 - val_loss: 1.3235 - val_accuracy: 0.5168\n",
            "Epoch 26/30\n",
            "718/718 [==============================] - 34s 48ms/step - loss: 0.9302 - accuracy: 0.6579 - val_loss: 1.3343 - val_accuracy: 0.5161\n",
            "Epoch 27/30\n",
            "718/718 [==============================] - 37s 52ms/step - loss: 0.8443 - accuracy: 0.6886 - val_loss: 1.4187 - val_accuracy: 0.5088\n",
            "Epoch 28/30\n",
            "718/718 [==============================] - 35s 48ms/step - loss: 0.7582 - accuracy: 0.7201 - val_loss: 1.4517 - val_accuracy: 0.5259\n",
            "Epoch 29/30\n",
            "718/718 [==============================] - 35s 49ms/step - loss: 0.6624 - accuracy: 0.7602 - val_loss: 1.6219 - val_accuracy: 0.5074\n",
            "Epoch 30/30\n",
            "718/718 [==============================] - 34s 48ms/step - loss: 0.5699 - accuracy: 0.7941 - val_loss: 1.5844 - val_accuracy: 0.5226\n"
          ]
        },
        {
          "output_type": "execute_result",
          "data": {
            "text/plain": [
              "<keras.src.callbacks.History at 0x790782071120>"
            ]
          },
          "metadata": {},
          "execution_count": 14
        }
      ]
    },
    {
      "cell_type": "code",
      "source": [
        "loss = model.evaluate(test_generator)\n",
        "print(loss)"
      ],
      "metadata": {
        "colab": {
          "base_uri": "https://localhost:8080/"
        },
        "id": "qMpdJ8YdyS7j",
        "outputId": "b8d32e17-f87f-406e-e22a-0ed989992522"
      },
      "execution_count": null,
      "outputs": [
        {
          "output_type": "stream",
          "name": "stdout",
          "text": [
            "225/225 [==============================] - 3s 13ms/step - loss: 1.5484 - accuracy: 0.5276\n",
            "[1.5484086275100708, 0.5275843143463135]\n"
          ]
        }
      ]
    },
    {
      "cell_type": "code",
      "source": [
        "model_json = model.to_json()\n",
        "with open('model.json', 'w') as json_file:\n",
        "  json_file.write(model_json)\n",
        "  model.save_weights('model.h5')\n",
        "print('saved model to disk')\n"
      ],
      "metadata": {
        "colab": {
          "base_uri": "https://localhost:8080/"
        },
        "id": "1IZwp8cM1CLD",
        "outputId": "911ea109-635d-49e4-c18e-6a53965ea187"
      },
      "execution_count": null,
      "outputs": [
        {
          "output_type": "stream",
          "name": "stdout",
          "text": [
            "saved model to disk\n"
          ]
        }
      ]
    }
  ]
}